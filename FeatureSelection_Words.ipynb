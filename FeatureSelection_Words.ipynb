{
 "cells": [
  {
   "cell_type": "code",
   "execution_count": null,
   "metadata": {
    "collapsed": false
   },
   "outputs": [],
   "source": [
    "# This code takes WordCounts.csv from NativeAd-Classifier as input, and selects words to be used as features\n",
    "#\n",
    "# Feature selection is performed by fitting a Random Forest model to a subset of words in WordCounts.csv, \n",
    "# and then choosing words which have the largest importances as computed by the Random forest model.\n",
    "#\n",
    "#\n",
    "import pandas as pd\n",
    "from sklearn.ensemble import RandomForestClassifier\n",
    "#\n",
    "# Read in word counts, store list of words in wordlist\n",
    "WordCounts = pd.read_csv(\"WordCounts.csv\")\n",
    "wordlist = list(WordCounts.columns.values)\n",
    "wordlist.remove(\"file_name\")\n",
    "#\n",
    "# Add a column \"sponsored_\" to WordCounts. Equals 1 if sponsored content, else equals 0.\n",
    "# Labels for the training data are provided in train_v2.csv\n",
    "#\n",
    "train_labels = pd.read_csv(\"/media/sf_VboxShar/train_v2.csv\")\n",
    "train_keys = dict([a[1] for a in train_labels.iterrows()])\n",
    "sponsored_list = []\n",
    "for name in WordCounts[\"file_name\"]:\n",
    "    if name in train_keys:\n",
    "        sponsored_list.append(train_keys[name])\n",
    "    else:\n",
    "        sponsored_list.append(0)    \n",
    "WordCounts[\"sponsored_\"] = pd.Series(sponsored_list)"
   ]
  },
  {
   "cell_type": "code",
   "execution_count": null,
   "metadata": {
    "collapsed": false
   },
   "outputs": [],
   "source": [
    "# Construct data frame WordFreqs with columns word, freq\n",
    "# freq is frequency of files where word appears more than once.\n",
    "word_freq = []\n",
    "num_files = float(len(WordCounts))\n",
    "for word in wordlist:\n",
    "    count = (WordCounts[word].sum())\n",
    "    word_freq.append([word,float(count/num_files)])\n",
    "WordFreqs = pd.DataFrame(word_freq,columns = [\"word\",\"freq\"])\n",
    "#\n",
    "# Construct Dataframe including only the 100 most common words\n",
    "most_common_words = list(WordFreqs.sort(columns = [\"freq\"], ascending = False).iloc[:100][\"word\"])\n",
    "most_common_words_df = WordFreqs[WordFreqs[\"word\"].isin(most_common_words)]\n",
    "print \"Most common words/letters:\", most_common_words"
   ]
  },
  {
   "cell_type": "code",
   "execution_count": null,
   "metadata": {
    "collapsed": false
   },
   "outputs": [],
   "source": [
    "# \n",
    "# Fit Random forest to WordCounts, where target variable is \"sponsored_\" \n",
    "# and features are listed in most_common_words\n",
    "# \n",
    "print \"Fitting random forest model\"\n",
    "rf = RandomForestClassifier(n_estimators=100, random_state = 1)\n",
    "rf.fit(WordCounts[most_common_words],WordCounts[\"sponsored_\"])\n",
    "#\n",
    "# Obtain feature importances for a given word, store in array word_scores\n",
    "importances = rf.feature_importances_\n",
    "word_scores = []\n",
    "for i, item in enumerate(importances):\n",
    "    word_scores.append([most_common_words[i],item]) \n",
    "# Output 45 words with the highest feature importance scores\n",
    "# These words will be used as features in the final model in NativeAd-Classifier\n",
    "#\n",
    "#\n",
    "word_scores.sort(key=lambda x: x[1],reverse=True)\n",
    "best_words = [item[0] for item in word_scores[0:45]]\n",
    "print \"Chosen features:\", best_words"
   ]
  },
  {
   "cell_type": "code",
   "execution_count": null,
   "metadata": {
    "collapsed": true
   },
   "outputs": [],
   "source": [
    "# In another version of this code, a similar analysis was performed.\n",
    "# However instead of taking the 150 most common words, I took the 150 words with the highest Logdiff,\n",
    "# Logdiff = abs(log(sponsored_freq) - log(unsponsored_freq)).\n",
    "#\n",
    "# sponsored_freq is the fraction of sponsored HTML file which contain a given word more than once.\n",
    "# unsponsored_freq is similarly defined.\n",
    "#\n",
    "# This analysis selects the additional features listed below. \n",
    "best_words_2 = ['ad','m', 'e', 'mobile', 'go', 'services']\n",
    "# Adding these features to best_words improves both the cross-validation and leaderboard scores.\n",
    "# NativeAd-Classifier takes the words listed in both best_words and best_words_2 as features."
   ]
  }
 ],
 "metadata": {
  "kernelspec": {
   "display_name": "Python 2",
   "language": "python",
   "name": "python2"
  },
  "language_info": {
   "codemirror_mode": {
    "name": "ipython",
    "version": 2
   },
   "file_extension": ".py",
   "mimetype": "text/x-python",
   "name": "python",
   "nbconvert_exporter": "python",
   "pygments_lexer": "ipython2",
   "version": "2.7.6"
  }
 },
 "nbformat": 4,
 "nbformat_minor": 0
}
